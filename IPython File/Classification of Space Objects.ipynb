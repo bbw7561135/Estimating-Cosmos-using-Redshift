{
 "cells": [
  {
   "cell_type": "markdown",
   "metadata": {},
   "source": [
    "# Importing Libraries"
   ]
  },
  {
   "cell_type": "code",
   "execution_count": 1,
   "metadata": {
    "collapsed": false
   },
   "outputs": [],
   "source": [
    "%matplotlib inline\n",
    "import numpy as np\n",
    "import pandas as pd\n",
    "import seaborn as sns\n",
    "import matplotlib.pyplot as plt\n",
    "import warnings\n",
    "warnings.filterwarnings(\"ignore\")"
   ]
  },
  {
   "cell_type": "code",
   "execution_count": 2,
   "metadata": {
    "collapsed": false
   },
   "outputs": [],
   "source": [
    "data = pd.read_csv('New Text Document.csv')"
   ]
  },
  {
   "cell_type": "code",
   "execution_count": 3,
   "metadata": {
    "collapsed": false
   },
   "outputs": [
    {
     "data": {
      "text/html": [
       "<div>\n",
       "<table border=\"1\" class=\"dataframe\">\n",
       "  <thead>\n",
       "    <tr style=\"text-align: right;\">\n",
       "      <th></th>\n",
       "      <th>objid</th>\n",
       "      <th>ra</th>\n",
       "      <th>dec</th>\n",
       "      <th>u</th>\n",
       "      <th>g</th>\n",
       "      <th>r</th>\n",
       "      <th>i</th>\n",
       "      <th>z</th>\n",
       "      <th>run</th>\n",
       "      <th>rerun</th>\n",
       "      <th>camcol</th>\n",
       "      <th>field</th>\n",
       "      <th>specobjid</th>\n",
       "      <th>class</th>\n",
       "      <th>redshift</th>\n",
       "      <th>plate</th>\n",
       "      <th>mjd</th>\n",
       "      <th>fiberid</th>\n",
       "    </tr>\n",
       "  </thead>\n",
       "  <tbody>\n",
       "    <tr>\n",
       "      <th>0</th>\n",
       "      <td>1.237650e+18</td>\n",
       "      <td>242.568983</td>\n",
       "      <td>0.75012</td>\n",
       "      <td>19.05989</td>\n",
       "      <td>17.49459</td>\n",
       "      <td>16.59285</td>\n",
       "      <td>16.09412</td>\n",
       "      <td>15.70741</td>\n",
       "      <td>745</td>\n",
       "      <td>301</td>\n",
       "      <td>5</td>\n",
       "      <td>560</td>\n",
       "      <td>3.885580e+17</td>\n",
       "      <td>GALAXY</td>\n",
       "      <td>0.044277</td>\n",
       "      <td>345</td>\n",
       "      <td>51690</td>\n",
       "      <td>447</td>\n",
       "    </tr>\n",
       "  </tbody>\n",
       "</table>\n",
       "</div>"
      ],
      "text/plain": [
       "          objid          ra      dec         u         g         r         i  \\\n",
       "0  1.237650e+18  242.568983  0.75012  19.05989  17.49459  16.59285  16.09412   \n",
       "\n",
       "          z  run  rerun  camcol  field     specobjid   class  redshift  plate  \\\n",
       "0  15.70741  745    301       5    560  3.885580e+17  GALAXY  0.044277    345   \n",
       "\n",
       "     mjd  fiberid  \n",
       "0  51690      447  "
      ]
     },
     "execution_count": 3,
     "metadata": {},
     "output_type": "execute_result"
    }
   ],
   "source": [
    "data.head(1)"
   ]
  },
  {
   "cell_type": "markdown",
   "metadata": {},
   "source": [
    "# Data Preprocessing"
   ]
  },
  {
   "cell_type": "code",
   "execution_count": 4,
   "metadata": {
    "collapsed": false
   },
   "outputs": [],
   "source": [
    "data.drop(data.columns[[0,1,2,8,9,10,11,12]], axis=1, inplace=True)"
   ]
  },
  {
   "cell_type": "code",
   "execution_count": 5,
   "metadata": {
    "collapsed": false
   },
   "outputs": [
    {
     "data": {
      "text/html": [
       "<div>\n",
       "<table border=\"1\" class=\"dataframe\">\n",
       "  <thead>\n",
       "    <tr style=\"text-align: right;\">\n",
       "      <th></th>\n",
       "      <th>u</th>\n",
       "      <th>g</th>\n",
       "      <th>r</th>\n",
       "      <th>i</th>\n",
       "      <th>z</th>\n",
       "      <th>class</th>\n",
       "      <th>redshift</th>\n",
       "      <th>plate</th>\n",
       "      <th>mjd</th>\n",
       "      <th>fiberid</th>\n",
       "    </tr>\n",
       "  </thead>\n",
       "  <tbody>\n",
       "    <tr>\n",
       "      <th>0</th>\n",
       "      <td>19.05989</td>\n",
       "      <td>17.49459</td>\n",
       "      <td>16.59285</td>\n",
       "      <td>16.09412</td>\n",
       "      <td>15.70741</td>\n",
       "      <td>GALAXY</td>\n",
       "      <td>0.044277</td>\n",
       "      <td>345</td>\n",
       "      <td>51690</td>\n",
       "      <td>447</td>\n",
       "    </tr>\n",
       "  </tbody>\n",
       "</table>\n",
       "</div>"
      ],
      "text/plain": [
       "          u         g         r         i         z   class  redshift  plate  \\\n",
       "0  19.05989  17.49459  16.59285  16.09412  15.70741  GALAXY  0.044277    345   \n",
       "\n",
       "     mjd  fiberid  \n",
       "0  51690      447  "
      ]
     },
     "execution_count": 5,
     "metadata": {},
     "output_type": "execute_result"
    }
   ],
   "source": [
    "data.head(1)"
   ]
  },
  {
   "cell_type": "code",
   "execution_count": 6,
   "metadata": {
    "collapsed": true
   },
   "outputs": [],
   "source": [
    "data.drop(data.columns[[6,7,8,9]], axis=1, inplace=True)"
   ]
  },
  {
   "cell_type": "code",
   "execution_count": 7,
   "metadata": {
    "collapsed": false
   },
   "outputs": [
    {
     "data": {
      "text/plain": [
       "array([0, 1, 2], dtype=int64)"
      ]
     },
     "execution_count": 7,
     "metadata": {},
     "output_type": "execute_result"
    }
   ],
   "source": [
    "from sklearn import preprocessing\n",
    "le = preprocessing.LabelEncoder()\n",
    "le.fit([\"GALAXY\", \"QSO\", \"STAR\"])\n",
    "le.transform([\"GALAXY\", \"QSO\", \"STAR\"])"
   ]
  },
  {
   "cell_type": "code",
   "execution_count": 8,
   "metadata": {
    "collapsed": false
   },
   "outputs": [],
   "source": [
    "data['class'] = le.fit_transform(data['class'])"
   ]
  },
  {
   "cell_type": "code",
   "execution_count": 9,
   "metadata": {
    "collapsed": false
   },
   "outputs": [
    {
     "data": {
      "text/html": [
       "<div>\n",
       "<table border=\"1\" class=\"dataframe\">\n",
       "  <thead>\n",
       "    <tr style=\"text-align: right;\">\n",
       "      <th></th>\n",
       "      <th>u</th>\n",
       "      <th>g</th>\n",
       "      <th>r</th>\n",
       "      <th>i</th>\n",
       "      <th>z</th>\n",
       "      <th>class</th>\n",
       "    </tr>\n",
       "  </thead>\n",
       "  <tbody>\n",
       "    <tr>\n",
       "      <th>count</th>\n",
       "      <td>500000.000000</td>\n",
       "      <td>500000.000000</td>\n",
       "      <td>500000.000000</td>\n",
       "      <td>500000.000000</td>\n",
       "      <td>500000.000000</td>\n",
       "      <td>500000.00000</td>\n",
       "    </tr>\n",
       "    <tr>\n",
       "      <th>mean</th>\n",
       "      <td>18.639682</td>\n",
       "      <td>17.401127</td>\n",
       "      <td>16.868202</td>\n",
       "      <td>16.564946</td>\n",
       "      <td>16.362964</td>\n",
       "      <td>0.78304</td>\n",
       "    </tr>\n",
       "    <tr>\n",
       "      <th>std</th>\n",
       "      <td>0.833932</td>\n",
       "      <td>0.983519</td>\n",
       "      <td>1.127422</td>\n",
       "      <td>20.067335</td>\n",
       "      <td>28.356677</td>\n",
       "      <td>0.92217</td>\n",
       "    </tr>\n",
       "    <tr>\n",
       "      <th>min</th>\n",
       "      <td>6.752484</td>\n",
       "      <td>7.466997</td>\n",
       "      <td>8.449127</td>\n",
       "      <td>-9999.000000</td>\n",
       "      <td>-9999.000000</td>\n",
       "      <td>0.00000</td>\n",
       "    </tr>\n",
       "    <tr>\n",
       "      <th>25%</th>\n",
       "      <td>18.219100</td>\n",
       "      <td>16.849210</td>\n",
       "      <td>16.188660</td>\n",
       "      <td>15.855898</td>\n",
       "      <td>15.612360</td>\n",
       "      <td>0.00000</td>\n",
       "    </tr>\n",
       "    <tr>\n",
       "      <th>50%</th>\n",
       "      <td>18.875105</td>\n",
       "      <td>17.519265</td>\n",
       "      <td>16.891330</td>\n",
       "      <td>16.590285</td>\n",
       "      <td>16.410510</td>\n",
       "      <td>0.00000</td>\n",
       "    </tr>\n",
       "    <tr>\n",
       "      <th>75%</th>\n",
       "      <td>19.273140</td>\n",
       "      <td>18.050130</td>\n",
       "      <td>17.564302</td>\n",
       "      <td>17.307343</td>\n",
       "      <td>17.186420</td>\n",
       "      <td>2.00000</td>\n",
       "    </tr>\n",
       "    <tr>\n",
       "      <th>max</th>\n",
       "      <td>19.600000</td>\n",
       "      <td>19.996050</td>\n",
       "      <td>31.990100</td>\n",
       "      <td>32.101780</td>\n",
       "      <td>30.846780</td>\n",
       "      <td>2.00000</td>\n",
       "    </tr>\n",
       "  </tbody>\n",
       "</table>\n",
       "</div>"
      ],
      "text/plain": [
       "                   u              g              r              i  \\\n",
       "count  500000.000000  500000.000000  500000.000000  500000.000000   \n",
       "mean       18.639682      17.401127      16.868202      16.564946   \n",
       "std         0.833932       0.983519       1.127422      20.067335   \n",
       "min         6.752484       7.466997       8.449127   -9999.000000   \n",
       "25%        18.219100      16.849210      16.188660      15.855898   \n",
       "50%        18.875105      17.519265      16.891330      16.590285   \n",
       "75%        19.273140      18.050130      17.564302      17.307343   \n",
       "max        19.600000      19.996050      31.990100      32.101780   \n",
       "\n",
       "                   z         class  \n",
       "count  500000.000000  500000.00000  \n",
       "mean       16.362964       0.78304  \n",
       "std        28.356677       0.92217  \n",
       "min     -9999.000000       0.00000  \n",
       "25%        15.612360       0.00000  \n",
       "50%        16.410510       0.00000  \n",
       "75%        17.186420       2.00000  \n",
       "max        30.846780       2.00000  "
      ]
     },
     "execution_count": 9,
     "metadata": {},
     "output_type": "execute_result"
    }
   ],
   "source": [
    "data.describe()"
   ]
  },
  {
   "cell_type": "code",
   "execution_count": null,
   "metadata": {
    "collapsed": true
   },
   "outputs": [],
   "source": []
  },
  {
   "cell_type": "code",
   "execution_count": 10,
   "metadata": {
    "collapsed": false,
    "scrolled": true
   },
   "outputs": [
    {
     "data": {
      "text/html": [
       "<div>\n",
       "<table border=\"1\" class=\"dataframe\">\n",
       "  <thead>\n",
       "    <tr style=\"text-align: right;\">\n",
       "      <th></th>\n",
       "      <th>u</th>\n",
       "      <th>g</th>\n",
       "      <th>r</th>\n",
       "      <th>i</th>\n",
       "      <th>z</th>\n",
       "      <th>class</th>\n",
       "    </tr>\n",
       "  </thead>\n",
       "  <tbody>\n",
       "    <tr>\n",
       "      <th>0</th>\n",
       "      <td>19.05989</td>\n",
       "      <td>17.49459</td>\n",
       "      <td>16.59285</td>\n",
       "      <td>16.09412</td>\n",
       "      <td>15.70741</td>\n",
       "      <td>0</td>\n",
       "    </tr>\n",
       "    <tr>\n",
       "      <th>1</th>\n",
       "      <td>19.45567</td>\n",
       "      <td>18.33084</td>\n",
       "      <td>17.67185</td>\n",
       "      <td>17.30189</td>\n",
       "      <td>17.13650</td>\n",
       "      <td>0</td>\n",
       "    </tr>\n",
       "    <tr>\n",
       "      <th>2</th>\n",
       "      <td>18.27065</td>\n",
       "      <td>18.08745</td>\n",
       "      <td>18.08966</td>\n",
       "      <td>18.22180</td>\n",
       "      <td>18.37045</td>\n",
       "      <td>1</td>\n",
       "    </tr>\n",
       "    <tr>\n",
       "      <th>3</th>\n",
       "      <td>18.94490</td>\n",
       "      <td>17.45382</td>\n",
       "      <td>16.71061</td>\n",
       "      <td>16.26543</td>\n",
       "      <td>15.94860</td>\n",
       "      <td>0</td>\n",
       "    </tr>\n",
       "    <tr>\n",
       "      <th>4</th>\n",
       "      <td>18.26457</td>\n",
       "      <td>16.76603</td>\n",
       "      <td>16.19773</td>\n",
       "      <td>15.99331</td>\n",
       "      <td>15.90720</td>\n",
       "      <td>2</td>\n",
       "    </tr>\n",
       "    <tr>\n",
       "      <th>5</th>\n",
       "      <td>18.84868</td>\n",
       "      <td>16.86433</td>\n",
       "      <td>15.90334</td>\n",
       "      <td>15.42890</td>\n",
       "      <td>15.08823</td>\n",
       "      <td>0</td>\n",
       "    </tr>\n",
       "    <tr>\n",
       "      <th>6</th>\n",
       "      <td>19.43880</td>\n",
       "      <td>18.36549</td>\n",
       "      <td>17.84352</td>\n",
       "      <td>17.62595</td>\n",
       "      <td>17.54450</td>\n",
       "      <td>2</td>\n",
       "    </tr>\n",
       "    <tr>\n",
       "      <th>7</th>\n",
       "      <td>19.37425</td>\n",
       "      <td>17.76414</td>\n",
       "      <td>17.10439</td>\n",
       "      <td>16.85696</td>\n",
       "      <td>16.71100</td>\n",
       "      <td>2</td>\n",
       "    </tr>\n",
       "    <tr>\n",
       "      <th>8</th>\n",
       "      <td>17.88025</td>\n",
       "      <td>17.73751</td>\n",
       "      <td>18.04885</td>\n",
       "      <td>18.32398</td>\n",
       "      <td>18.52942</td>\n",
       "      <td>2</td>\n",
       "    </tr>\n",
       "    <tr>\n",
       "      <th>9</th>\n",
       "      <td>19.03113</td>\n",
       "      <td>17.93515</td>\n",
       "      <td>17.49739</td>\n",
       "      <td>17.15799</td>\n",
       "      <td>16.99095</td>\n",
       "      <td>0</td>\n",
       "    </tr>\n",
       "    <tr>\n",
       "      <th>10</th>\n",
       "      <td>19.34175</td>\n",
       "      <td>18.33376</td>\n",
       "      <td>17.95975</td>\n",
       "      <td>17.67543</td>\n",
       "      <td>17.54168</td>\n",
       "      <td>0</td>\n",
       "    </tr>\n",
       "    <tr>\n",
       "      <th>11</th>\n",
       "      <td>19.20547</td>\n",
       "      <td>18.21573</td>\n",
       "      <td>17.73127</td>\n",
       "      <td>17.42313</td>\n",
       "      <td>17.32267</td>\n",
       "      <td>0</td>\n",
       "    </tr>\n",
       "    <tr>\n",
       "      <th>12</th>\n",
       "      <td>18.44517</td>\n",
       "      <td>17.24542</td>\n",
       "      <td>17.10835</td>\n",
       "      <td>17.09101</td>\n",
       "      <td>17.13442</td>\n",
       "      <td>2</td>\n",
       "    </tr>\n",
       "    <tr>\n",
       "      <th>13</th>\n",
       "      <td>18.62963</td>\n",
       "      <td>16.91113</td>\n",
       "      <td>16.21830</td>\n",
       "      <td>15.97996</td>\n",
       "      <td>15.83835</td>\n",
       "      <td>2</td>\n",
       "    </tr>\n",
       "    <tr>\n",
       "      <th>14</th>\n",
       "      <td>18.73878</td>\n",
       "      <td>17.51475</td>\n",
       "      <td>17.05004</td>\n",
       "      <td>16.84725</td>\n",
       "      <td>16.77919</td>\n",
       "      <td>2</td>\n",
       "    </tr>\n",
       "    <tr>\n",
       "      <th>15</th>\n",
       "      <td>16.62952</td>\n",
       "      <td>14.88339</td>\n",
       "      <td>14.55241</td>\n",
       "      <td>14.57238</td>\n",
       "      <td>15.26632</td>\n",
       "      <td>0</td>\n",
       "    </tr>\n",
       "    <tr>\n",
       "      <th>16</th>\n",
       "      <td>17.24598</td>\n",
       "      <td>15.93616</td>\n",
       "      <td>15.44045</td>\n",
       "      <td>15.25684</td>\n",
       "      <td>15.18487</td>\n",
       "      <td>2</td>\n",
       "    </tr>\n",
       "    <tr>\n",
       "      <th>17</th>\n",
       "      <td>18.98141</td>\n",
       "      <td>17.65929</td>\n",
       "      <td>17.21067</td>\n",
       "      <td>17.04889</td>\n",
       "      <td>17.00209</td>\n",
       "      <td>2</td>\n",
       "    </tr>\n",
       "    <tr>\n",
       "      <th>18</th>\n",
       "      <td>19.16411</td>\n",
       "      <td>17.27371</td>\n",
       "      <td>16.31466</td>\n",
       "      <td>15.78471</td>\n",
       "      <td>15.44008</td>\n",
       "      <td>0</td>\n",
       "    </tr>\n",
       "    <tr>\n",
       "      <th>19</th>\n",
       "      <td>18.71818</td>\n",
       "      <td>17.39557</td>\n",
       "      <td>16.87677</td>\n",
       "      <td>16.71544</td>\n",
       "      <td>16.62775</td>\n",
       "      <td>2</td>\n",
       "    </tr>\n",
       "    <tr>\n",
       "      <th>20</th>\n",
       "      <td>19.30350</td>\n",
       "      <td>17.90728</td>\n",
       "      <td>17.25062</td>\n",
       "      <td>16.85490</td>\n",
       "      <td>16.58678</td>\n",
       "      <td>0</td>\n",
       "    </tr>\n",
       "    <tr>\n",
       "      <th>21</th>\n",
       "      <td>18.81831</td>\n",
       "      <td>17.68695</td>\n",
       "      <td>17.54415</td>\n",
       "      <td>17.54516</td>\n",
       "      <td>17.60621</td>\n",
       "      <td>2</td>\n",
       "    </tr>\n",
       "    <tr>\n",
       "      <th>22</th>\n",
       "      <td>18.31649</td>\n",
       "      <td>17.11621</td>\n",
       "      <td>16.60212</td>\n",
       "      <td>16.44939</td>\n",
       "      <td>16.38380</td>\n",
       "      <td>2</td>\n",
       "    </tr>\n",
       "    <tr>\n",
       "      <th>23</th>\n",
       "      <td>18.17672</td>\n",
       "      <td>17.01050</td>\n",
       "      <td>16.41779</td>\n",
       "      <td>16.03847</td>\n",
       "      <td>15.84439</td>\n",
       "      <td>0</td>\n",
       "    </tr>\n",
       "    <tr>\n",
       "      <th>24</th>\n",
       "      <td>18.87921</td>\n",
       "      <td>17.12427</td>\n",
       "      <td>16.25532</td>\n",
       "      <td>15.85055</td>\n",
       "      <td>15.55597</td>\n",
       "      <td>0</td>\n",
       "    </tr>\n",
       "    <tr>\n",
       "      <th>25</th>\n",
       "      <td>18.95872</td>\n",
       "      <td>17.04945</td>\n",
       "      <td>16.16656</td>\n",
       "      <td>15.71334</td>\n",
       "      <td>15.41194</td>\n",
       "      <td>0</td>\n",
       "    </tr>\n",
       "    <tr>\n",
       "      <th>26</th>\n",
       "      <td>18.89983</td>\n",
       "      <td>17.45141</td>\n",
       "      <td>16.81735</td>\n",
       "      <td>16.60699</td>\n",
       "      <td>16.46253</td>\n",
       "      <td>2</td>\n",
       "    </tr>\n",
       "    <tr>\n",
       "      <th>27</th>\n",
       "      <td>19.08604</td>\n",
       "      <td>17.34755</td>\n",
       "      <td>16.35862</td>\n",
       "      <td>15.84222</td>\n",
       "      <td>15.47503</td>\n",
       "      <td>0</td>\n",
       "    </tr>\n",
       "    <tr>\n",
       "      <th>28</th>\n",
       "      <td>18.97039</td>\n",
       "      <td>18.81752</td>\n",
       "      <td>18.68532</td>\n",
       "      <td>18.60291</td>\n",
       "      <td>18.33350</td>\n",
       "      <td>1</td>\n",
       "    </tr>\n",
       "    <tr>\n",
       "      <th>29</th>\n",
       "      <td>19.09687</td>\n",
       "      <td>17.18067</td>\n",
       "      <td>16.23233</td>\n",
       "      <td>15.81135</td>\n",
       "      <td>15.49600</td>\n",
       "      <td>0</td>\n",
       "    </tr>\n",
       "    <tr>\n",
       "      <th>...</th>\n",
       "      <td>...</td>\n",
       "      <td>...</td>\n",
       "      <td>...</td>\n",
       "      <td>...</td>\n",
       "      <td>...</td>\n",
       "      <td>...</td>\n",
       "    </tr>\n",
       "    <tr>\n",
       "      <th>499970</th>\n",
       "      <td>17.82531</td>\n",
       "      <td>16.05176</td>\n",
       "      <td>15.20068</td>\n",
       "      <td>14.78909</td>\n",
       "      <td>14.46594</td>\n",
       "      <td>0</td>\n",
       "    </tr>\n",
       "    <tr>\n",
       "      <th>499971</th>\n",
       "      <td>18.86337</td>\n",
       "      <td>17.37860</td>\n",
       "      <td>16.46882</td>\n",
       "      <td>15.92749</td>\n",
       "      <td>15.55472</td>\n",
       "      <td>0</td>\n",
       "    </tr>\n",
       "    <tr>\n",
       "      <th>499972</th>\n",
       "      <td>19.25006</td>\n",
       "      <td>17.96285</td>\n",
       "      <td>17.33656</td>\n",
       "      <td>16.99463</td>\n",
       "      <td>16.71178</td>\n",
       "      <td>0</td>\n",
       "    </tr>\n",
       "    <tr>\n",
       "      <th>499973</th>\n",
       "      <td>18.93172</td>\n",
       "      <td>18.02538</td>\n",
       "      <td>17.45272</td>\n",
       "      <td>17.01181</td>\n",
       "      <td>16.76630</td>\n",
       "      <td>0</td>\n",
       "    </tr>\n",
       "    <tr>\n",
       "      <th>499974</th>\n",
       "      <td>19.57897</td>\n",
       "      <td>18.71716</td>\n",
       "      <td>18.29935</td>\n",
       "      <td>18.05411</td>\n",
       "      <td>17.97670</td>\n",
       "      <td>0</td>\n",
       "    </tr>\n",
       "    <tr>\n",
       "      <th>499975</th>\n",
       "      <td>18.03049</td>\n",
       "      <td>16.64616</td>\n",
       "      <td>15.94447</td>\n",
       "      <td>15.56295</td>\n",
       "      <td>15.27652</td>\n",
       "      <td>0</td>\n",
       "    </tr>\n",
       "    <tr>\n",
       "      <th>499976</th>\n",
       "      <td>18.95551</td>\n",
       "      <td>17.26273</td>\n",
       "      <td>16.45864</td>\n",
       "      <td>16.06700</td>\n",
       "      <td>15.77411</td>\n",
       "      <td>0</td>\n",
       "    </tr>\n",
       "    <tr>\n",
       "      <th>499977</th>\n",
       "      <td>18.90054</td>\n",
       "      <td>17.46412</td>\n",
       "      <td>17.00567</td>\n",
       "      <td>16.64863</td>\n",
       "      <td>16.48117</td>\n",
       "      <td>0</td>\n",
       "    </tr>\n",
       "    <tr>\n",
       "      <th>499978</th>\n",
       "      <td>17.60430</td>\n",
       "      <td>16.48509</td>\n",
       "      <td>16.11953</td>\n",
       "      <td>15.91252</td>\n",
       "      <td>15.85446</td>\n",
       "      <td>0</td>\n",
       "    </tr>\n",
       "    <tr>\n",
       "      <th>499979</th>\n",
       "      <td>18.61886</td>\n",
       "      <td>16.90519</td>\n",
       "      <td>16.00957</td>\n",
       "      <td>15.59416</td>\n",
       "      <td>15.20120</td>\n",
       "      <td>0</td>\n",
       "    </tr>\n",
       "    <tr>\n",
       "      <th>499980</th>\n",
       "      <td>19.07203</td>\n",
       "      <td>18.50355</td>\n",
       "      <td>18.24000</td>\n",
       "      <td>18.21894</td>\n",
       "      <td>18.12175</td>\n",
       "      <td>1</td>\n",
       "    </tr>\n",
       "    <tr>\n",
       "      <th>499981</th>\n",
       "      <td>19.53868</td>\n",
       "      <td>18.15689</td>\n",
       "      <td>17.54798</td>\n",
       "      <td>17.19483</td>\n",
       "      <td>16.98530</td>\n",
       "      <td>0</td>\n",
       "    </tr>\n",
       "    <tr>\n",
       "      <th>499982</th>\n",
       "      <td>19.45609</td>\n",
       "      <td>19.32263</td>\n",
       "      <td>19.24986</td>\n",
       "      <td>18.98923</td>\n",
       "      <td>18.91439</td>\n",
       "      <td>1</td>\n",
       "    </tr>\n",
       "    <tr>\n",
       "      <th>499983</th>\n",
       "      <td>19.07372</td>\n",
       "      <td>18.04145</td>\n",
       "      <td>17.39985</td>\n",
       "      <td>17.02994</td>\n",
       "      <td>16.81062</td>\n",
       "      <td>0</td>\n",
       "    </tr>\n",
       "    <tr>\n",
       "      <th>499984</th>\n",
       "      <td>19.01428</td>\n",
       "      <td>17.13976</td>\n",
       "      <td>16.11478</td>\n",
       "      <td>15.63975</td>\n",
       "      <td>15.24344</td>\n",
       "      <td>0</td>\n",
       "    </tr>\n",
       "    <tr>\n",
       "      <th>499985</th>\n",
       "      <td>18.78449</td>\n",
       "      <td>17.02557</td>\n",
       "      <td>16.09566</td>\n",
       "      <td>15.68379</td>\n",
       "      <td>15.35543</td>\n",
       "      <td>0</td>\n",
       "    </tr>\n",
       "    <tr>\n",
       "      <th>499986</th>\n",
       "      <td>19.19143</td>\n",
       "      <td>18.03955</td>\n",
       "      <td>17.50952</td>\n",
       "      <td>17.23531</td>\n",
       "      <td>17.03402</td>\n",
       "      <td>0</td>\n",
       "    </tr>\n",
       "    <tr>\n",
       "      <th>499987</th>\n",
       "      <td>18.57335</td>\n",
       "      <td>18.35490</td>\n",
       "      <td>18.32511</td>\n",
       "      <td>18.38922</td>\n",
       "      <td>18.20812</td>\n",
       "      <td>1</td>\n",
       "    </tr>\n",
       "    <tr>\n",
       "      <th>499988</th>\n",
       "      <td>19.57250</td>\n",
       "      <td>18.25274</td>\n",
       "      <td>17.73394</td>\n",
       "      <td>17.36947</td>\n",
       "      <td>17.20335</td>\n",
       "      <td>0</td>\n",
       "    </tr>\n",
       "    <tr>\n",
       "      <th>499989</th>\n",
       "      <td>19.43531</td>\n",
       "      <td>17.53491</td>\n",
       "      <td>16.59192</td>\n",
       "      <td>16.16469</td>\n",
       "      <td>15.84496</td>\n",
       "      <td>0</td>\n",
       "    </tr>\n",
       "    <tr>\n",
       "      <th>499990</th>\n",
       "      <td>18.89643</td>\n",
       "      <td>17.47071</td>\n",
       "      <td>16.88147</td>\n",
       "      <td>16.65541</td>\n",
       "      <td>16.53781</td>\n",
       "      <td>2</td>\n",
       "    </tr>\n",
       "    <tr>\n",
       "      <th>499991</th>\n",
       "      <td>19.52056</td>\n",
       "      <td>17.54191</td>\n",
       "      <td>16.36136</td>\n",
       "      <td>15.86862</td>\n",
       "      <td>15.49105</td>\n",
       "      <td>0</td>\n",
       "    </tr>\n",
       "    <tr>\n",
       "      <th>499992</th>\n",
       "      <td>17.95698</td>\n",
       "      <td>16.33865</td>\n",
       "      <td>15.67617</td>\n",
       "      <td>15.40413</td>\n",
       "      <td>15.27109</td>\n",
       "      <td>2</td>\n",
       "    </tr>\n",
       "    <tr>\n",
       "      <th>499993</th>\n",
       "      <td>19.07541</td>\n",
       "      <td>16.60918</td>\n",
       "      <td>15.64256</td>\n",
       "      <td>15.30070</td>\n",
       "      <td>15.13256</td>\n",
       "      <td>2</td>\n",
       "    </tr>\n",
       "    <tr>\n",
       "      <th>499994</th>\n",
       "      <td>17.35504</td>\n",
       "      <td>15.53525</td>\n",
       "      <td>14.72662</td>\n",
       "      <td>14.33282</td>\n",
       "      <td>14.06379</td>\n",
       "      <td>0</td>\n",
       "    </tr>\n",
       "    <tr>\n",
       "      <th>499995</th>\n",
       "      <td>18.96836</td>\n",
       "      <td>17.32873</td>\n",
       "      <td>16.48102</td>\n",
       "      <td>15.98196</td>\n",
       "      <td>15.63491</td>\n",
       "      <td>0</td>\n",
       "    </tr>\n",
       "    <tr>\n",
       "      <th>499996</th>\n",
       "      <td>18.00649</td>\n",
       "      <td>16.45442</td>\n",
       "      <td>15.83506</td>\n",
       "      <td>15.61025</td>\n",
       "      <td>15.46043</td>\n",
       "      <td>2</td>\n",
       "    </tr>\n",
       "    <tr>\n",
       "      <th>499997</th>\n",
       "      <td>18.31123</td>\n",
       "      <td>17.24955</td>\n",
       "      <td>16.76237</td>\n",
       "      <td>16.55457</td>\n",
       "      <td>16.44842</td>\n",
       "      <td>2</td>\n",
       "    </tr>\n",
       "    <tr>\n",
       "      <th>499998</th>\n",
       "      <td>18.54049</td>\n",
       "      <td>17.07246</td>\n",
       "      <td>16.52143</td>\n",
       "      <td>16.31161</td>\n",
       "      <td>16.21008</td>\n",
       "      <td>2</td>\n",
       "    </tr>\n",
       "    <tr>\n",
       "      <th>499999</th>\n",
       "      <td>19.29351</td>\n",
       "      <td>17.64427</td>\n",
       "      <td>16.91061</td>\n",
       "      <td>16.60851</td>\n",
       "      <td>16.42730</td>\n",
       "      <td>2</td>\n",
       "    </tr>\n",
       "  </tbody>\n",
       "</table>\n",
       "<p>499996 rows × 6 columns</p>\n",
       "</div>"
      ],
      "text/plain": [
       "               u         g         r         i         z  class\n",
       "0       19.05989  17.49459  16.59285  16.09412  15.70741      0\n",
       "1       19.45567  18.33084  17.67185  17.30189  17.13650      0\n",
       "2       18.27065  18.08745  18.08966  18.22180  18.37045      1\n",
       "3       18.94490  17.45382  16.71061  16.26543  15.94860      0\n",
       "4       18.26457  16.76603  16.19773  15.99331  15.90720      2\n",
       "5       18.84868  16.86433  15.90334  15.42890  15.08823      0\n",
       "6       19.43880  18.36549  17.84352  17.62595  17.54450      2\n",
       "7       19.37425  17.76414  17.10439  16.85696  16.71100      2\n",
       "8       17.88025  17.73751  18.04885  18.32398  18.52942      2\n",
       "9       19.03113  17.93515  17.49739  17.15799  16.99095      0\n",
       "10      19.34175  18.33376  17.95975  17.67543  17.54168      0\n",
       "11      19.20547  18.21573  17.73127  17.42313  17.32267      0\n",
       "12      18.44517  17.24542  17.10835  17.09101  17.13442      2\n",
       "13      18.62963  16.91113  16.21830  15.97996  15.83835      2\n",
       "14      18.73878  17.51475  17.05004  16.84725  16.77919      2\n",
       "15      16.62952  14.88339  14.55241  14.57238  15.26632      0\n",
       "16      17.24598  15.93616  15.44045  15.25684  15.18487      2\n",
       "17      18.98141  17.65929  17.21067  17.04889  17.00209      2\n",
       "18      19.16411  17.27371  16.31466  15.78471  15.44008      0\n",
       "19      18.71818  17.39557  16.87677  16.71544  16.62775      2\n",
       "20      19.30350  17.90728  17.25062  16.85490  16.58678      0\n",
       "21      18.81831  17.68695  17.54415  17.54516  17.60621      2\n",
       "22      18.31649  17.11621  16.60212  16.44939  16.38380      2\n",
       "23      18.17672  17.01050  16.41779  16.03847  15.84439      0\n",
       "24      18.87921  17.12427  16.25532  15.85055  15.55597      0\n",
       "25      18.95872  17.04945  16.16656  15.71334  15.41194      0\n",
       "26      18.89983  17.45141  16.81735  16.60699  16.46253      2\n",
       "27      19.08604  17.34755  16.35862  15.84222  15.47503      0\n",
       "28      18.97039  18.81752  18.68532  18.60291  18.33350      1\n",
       "29      19.09687  17.18067  16.23233  15.81135  15.49600      0\n",
       "...          ...       ...       ...       ...       ...    ...\n",
       "499970  17.82531  16.05176  15.20068  14.78909  14.46594      0\n",
       "499971  18.86337  17.37860  16.46882  15.92749  15.55472      0\n",
       "499972  19.25006  17.96285  17.33656  16.99463  16.71178      0\n",
       "499973  18.93172  18.02538  17.45272  17.01181  16.76630      0\n",
       "499974  19.57897  18.71716  18.29935  18.05411  17.97670      0\n",
       "499975  18.03049  16.64616  15.94447  15.56295  15.27652      0\n",
       "499976  18.95551  17.26273  16.45864  16.06700  15.77411      0\n",
       "499977  18.90054  17.46412  17.00567  16.64863  16.48117      0\n",
       "499978  17.60430  16.48509  16.11953  15.91252  15.85446      0\n",
       "499979  18.61886  16.90519  16.00957  15.59416  15.20120      0\n",
       "499980  19.07203  18.50355  18.24000  18.21894  18.12175      1\n",
       "499981  19.53868  18.15689  17.54798  17.19483  16.98530      0\n",
       "499982  19.45609  19.32263  19.24986  18.98923  18.91439      1\n",
       "499983  19.07372  18.04145  17.39985  17.02994  16.81062      0\n",
       "499984  19.01428  17.13976  16.11478  15.63975  15.24344      0\n",
       "499985  18.78449  17.02557  16.09566  15.68379  15.35543      0\n",
       "499986  19.19143  18.03955  17.50952  17.23531  17.03402      0\n",
       "499987  18.57335  18.35490  18.32511  18.38922  18.20812      1\n",
       "499988  19.57250  18.25274  17.73394  17.36947  17.20335      0\n",
       "499989  19.43531  17.53491  16.59192  16.16469  15.84496      0\n",
       "499990  18.89643  17.47071  16.88147  16.65541  16.53781      2\n",
       "499991  19.52056  17.54191  16.36136  15.86862  15.49105      0\n",
       "499992  17.95698  16.33865  15.67617  15.40413  15.27109      2\n",
       "499993  19.07541  16.60918  15.64256  15.30070  15.13256      2\n",
       "499994  17.35504  15.53525  14.72662  14.33282  14.06379      0\n",
       "499995  18.96836  17.32873  16.48102  15.98196  15.63491      0\n",
       "499996  18.00649  16.45442  15.83506  15.61025  15.46043      2\n",
       "499997  18.31123  17.24955  16.76237  16.55457  16.44842      2\n",
       "499998  18.54049  17.07246  16.52143  16.31161  16.21008      2\n",
       "499999  19.29351  17.64427  16.91061  16.60851  16.42730      2\n",
       "\n",
       "[499996 rows x 6 columns]"
      ]
     },
     "execution_count": 10,
     "metadata": {},
     "output_type": "execute_result"
    }
   ],
   "source": [
    "data[data['i'] > -200]\n",
    "data[data['z'] > -200]    "
   ]
  },
  {
   "cell_type": "raw",
   "metadata": {
    "collapsed": false
   },
   "source": [
    "# corrmat = data.corr()\n",
    "\n",
    "# Set up the matplotlib figure\n",
    "f, ax = plt.subplots(figsize=(12, 9))\n",
    "\n",
    "# Draw the heatmap using seaborn\n",
    "sns.heatmap(corrmat, vmax=1, square=True)\n",
    "\n",
    "# Use matplotlib directly to emphasize known networks\n",
    "networks = corrmat.columns\n",
    "for i, network in enumerate(networks):\n",
    "    if i and network != networks[i - 1]:\n",
    "        ax.axhline(len(networks) - i, c=\"w\")\n",
    "        ax.axvline(i, c=\"w\")\n",
    "f.tight_layout()"
   ]
  },
  {
   "cell_type": "code",
   "execution_count": 11,
   "metadata": {
    "collapsed": false
   },
   "outputs": [],
   "source": [
    "#sns.pairplot(data, hue=\"class\")"
   ]
  },
  {
   "cell_type": "code",
   "execution_count": null,
   "metadata": {
    "collapsed": true
   },
   "outputs": [],
   "source": []
  },
  {
   "cell_type": "code",
   "execution_count": 12,
   "metadata": {
    "collapsed": false
   },
   "outputs": [],
   "source": [
    "target = data['class']\n",
    "features = data.drop('class', 1)"
   ]
  },
  {
   "cell_type": "code",
   "execution_count": 13,
   "metadata": {
    "collapsed": false
   },
   "outputs": [],
   "source": [
    "from sklearn.model_selection import train_test_split\n",
    "X_train, X_test, y_train, y_test = train_test_split(features, target, test_size=0.05, random_state=42)"
   ]
  },
  {
   "cell_type": "code",
   "execution_count": null,
   "metadata": {
    "collapsed": true
   },
   "outputs": [],
   "source": []
  },
  {
   "cell_type": "code",
   "execution_count": 26,
   "metadata": {
    "collapsed": false,
    "scrolled": true
   },
   "outputs": [
    {
     "name": "stdout",
     "output_type": "stream",
     "text": [
      "# Tuning hyper-parameters for precision\n",
      "()\n",
      "Best parameters set found on development set:\n",
      "()\n",
      "{'kernel': 'linear', 'C': 100, 'gamma': 0.001}\n",
      "()\n",
      "Grid scores on development set:\n",
      "()\n",
      "0.190 (+/-0.001) for {'kernel': 'rbf', 'C': 1, 'gamma': 0.001}\n",
      "0.190 (+/-0.001) for {'kernel': 'rbf', 'C': 1, 'gamma': 0.0001}\n",
      "0.780 (+/-0.037) for {'kernel': 'rbf', 'C': 10, 'gamma': 0.001}\n",
      "0.190 (+/-0.001) for {'kernel': 'rbf', 'C': 10, 'gamma': 0.0001}\n",
      "0.854 (+/-0.033) for {'kernel': 'rbf', 'C': 100, 'gamma': 0.001}\n",
      "0.778 (+/-0.041) for {'kernel': 'rbf', 'C': 100, 'gamma': 0.0001}\n",
      "0.896 (+/-0.050) for {'kernel': 'linear', 'C': 1, 'gamma': 0.001}\n",
      "0.896 (+/-0.050) for {'kernel': 'linear', 'C': 1, 'gamma': 0.0001}\n",
      "0.923 (+/-0.045) for {'kernel': 'linear', 'C': 10, 'gamma': 0.001}\n",
      "0.923 (+/-0.045) for {'kernel': 'linear', 'C': 10, 'gamma': 0.0001}\n",
      "0.932 (+/-0.028) for {'kernel': 'linear', 'C': 100, 'gamma': 0.001}\n",
      "0.932 (+/-0.028) for {'kernel': 'linear', 'C': 100, 'gamma': 0.0001}\n",
      "()\n",
      "Detailed classification report:\n",
      "()\n",
      "The model is trained on the full development set.\n",
      "The scores are computed on the full evaluation set.\n",
      "()\n",
      "             precision    recall  f1-score   support\n",
      "\n",
      "          0       0.96      0.95      0.96     13790\n",
      "          1       0.91      0.85      0.88      2535\n",
      "          2       0.93      0.95      0.94      8675\n",
      "\n",
      "avg / total       0.94      0.94      0.94     25000\n",
      "\n",
      "()\n",
      "0.94136\n",
      "# Tuning hyper-parameters for recall\n",
      "()\n",
      "Best parameters set found on development set:\n",
      "()\n",
      "{'kernel': 'linear', 'C': 100, 'gamma': 0.001}\n",
      "()\n",
      "Grid scores on development set:\n",
      "()\n",
      "0.333 (+/-0.000) for {'kernel': 'rbf', 'C': 1, 'gamma': 0.001}\n",
      "0.333 (+/-0.000) for {'kernel': 'rbf', 'C': 1, 'gamma': 0.0001}\n",
      "0.714 (+/-0.080) for {'kernel': 'rbf', 'C': 10, 'gamma': 0.001}\n",
      "0.333 (+/-0.000) for {'kernel': 'rbf', 'C': 10, 'gamma': 0.0001}\n",
      "0.854 (+/-0.063) for {'kernel': 'rbf', 'C': 100, 'gamma': 0.001}\n",
      "0.712 (+/-0.079) for {'kernel': 'rbf', 'C': 100, 'gamma': 0.0001}\n",
      "0.913 (+/-0.034) for {'kernel': 'linear', 'C': 1, 'gamma': 0.001}\n",
      "0.913 (+/-0.034) for {'kernel': 'linear', 'C': 1, 'gamma': 0.0001}\n",
      "0.927 (+/-0.027) for {'kernel': 'linear', 'C': 10, 'gamma': 0.001}\n",
      "0.927 (+/-0.027) for {'kernel': 'linear', 'C': 10, 'gamma': 0.0001}\n",
      "0.934 (+/-0.023) for {'kernel': 'linear', 'C': 100, 'gamma': 0.001}\n",
      "0.934 (+/-0.023) for {'kernel': 'linear', 'C': 100, 'gamma': 0.0001}\n",
      "()\n",
      "Detailed classification report:\n",
      "()\n",
      "The model is trained on the full development set.\n",
      "The scores are computed on the full evaluation set.\n",
      "()\n",
      "             precision    recall  f1-score   support\n",
      "\n",
      "          0       0.96      0.95      0.96     13790\n",
      "          1       0.91      0.85      0.88      2535\n",
      "          2       0.93      0.95      0.94      8675\n",
      "\n",
      "avg / total       0.94      0.94      0.94     25000\n",
      "\n",
      "()\n",
      "0.94136\n"
     ]
    }
   ],
   "source": [
    "from sklearn.model_selection import train_test_split\n",
    "from sklearn.model_selection import GridSearchCV\n",
    "from sklearn.metrics import classification_report\n",
    "from sklearn.svm import SVC\n",
    "from sklearn.metrics import accuracy_score\n",
    "tuned_parameters = [{'kernel': ['rbf'], 'gamma': [1e-3, 1e-4],\n",
    "                     'C': [1, 10, 100]},\n",
    "                    {'kernel': ['linear'],'gamma': [1e-3, 1e-4], 'C': [1, 10, 100]}]\n",
    "\n",
    "scores = ['precision', 'recall']\n",
    "\n",
    "for score in scores:\n",
    "    print(\"# Tuning hyper-parameters for %s\" % score)\n",
    "    print()\n",
    "\n",
    "    clf = GridSearchCV(SVC(C=1), tuned_parameters, cv=5,\n",
    "                       scoring='%s_macro' % score)\n",
    "    clf.fit(X_train[:1000], y_train[:1000])\n",
    "\n",
    "    print(\"Best parameters set found on development set:\")\n",
    "    print()\n",
    "    print(clf.best_params_)\n",
    "    print()\n",
    "    print(\"Grid scores on development set:\")\n",
    "    print()\n",
    "    means = clf.cv_results_['mean_test_score']\n",
    "    stds = clf.cv_results_['std_test_score']\n",
    "    for mean, std, params in zip(means, stds, clf.cv_results_['params']):\n",
    "        print(\"%0.3f (+/-%0.03f) for %r\"\n",
    "              % (mean, std * 2, params))\n",
    "    print()\n",
    "\n",
    "    print(\"Detailed classification report:\")\n",
    "    print()\n",
    "    print(\"The model is trained on the full development set.\")\n",
    "    print(\"The scores are computed on the full evaluation set.\")\n",
    "    print()\n",
    "    y_true, y_pred = y_test, clf.predict(X_test)\n",
    "    print(classification_report(y_true, y_pred))\n",
    "    print()\n",
    "    print(accuracy_score(y_test,clf.predict(X_test)))"
   ]
  },
  {
   "cell_type": "raw",
   "metadata": {},
   "source": [
    "# Supervised Learning algorithms"
   ]
  },
  {
   "cell_type": "code",
   "execution_count": 125,
   "metadata": {
    "collapsed": false
   },
   "outputs": [],
   "source": [
    "from sklearn.metrics import accuracy_score\n",
    "\n",
    "def performance_martix(pred,true):\n",
    "    \n",
    "    score = accuracy_score(pred,true)\n",
    "    print('The Accuracy is \\n')\n",
    "    print(score)\n",
    "    \n",
    "    return "
   ]
  },
  {
   "cell_type": "code",
   "execution_count": 126,
   "metadata": {
    "collapsed": false
   },
   "outputs": [],
   "source": [
    "from sklearn.metrics import classification_report\n",
    "def clf_report(y_true, y_pred):\n",
    "    report = classification_report(y_true, y_pred)\n",
    "    print('Full Classification report :')\n",
    "    print(report)\n",
    "    return "
   ]
  },
  {
   "cell_type": "markdown",
   "metadata": {},
   "source": [
    "## Suppor Vector "
   ]
  },
  {
   "cell_type": "code",
   "execution_count": 127,
   "metadata": {
    "collapsed": false
   },
   "outputs": [],
   "source": [
    "from sklearn.svm import SVC\n",
    "clf = SVC()"
   ]
  },
  {
   "cell_type": "code",
   "execution_count": 137,
   "metadata": {
    "collapsed": false
   },
   "outputs": [
    {
     "data": {
      "text/plain": [
       "SVC(C=1.0, cache_size=200, class_weight=None, coef0=0.0,\n",
       "  decision_function_shape=None, degree=3, gamma='auto', kernel='rbf',\n",
       "  max_iter=-1, probability=False, random_state=None, shrinking=True,\n",
       "  tol=0.001, verbose=False)"
      ]
     },
     "execution_count": 137,
     "metadata": {},
     "output_type": "execute_result"
    }
   ],
   "source": [
    "clf.fit(X_train[:3000],y_train[:3000])"
   ]
  },
  {
   "cell_type": "code",
   "execution_count": 140,
   "metadata": {
    "collapsed": false,
    "scrolled": true
   },
   "outputs": [
    {
     "name": "stdout",
     "output_type": "stream",
     "text": [
      "The Accuracy is \n",
      "\n",
      "0.73413\n",
      "Full Classification report :\n",
      "             precision    recall  f1-score   support\n",
      "\n",
      "          0       0.70      0.98      0.82     55652\n",
      "          1       0.77      0.67      0.72     10289\n",
      "          2       0.91      0.36      0.51     34059\n",
      "\n",
      "avg / total       0.78      0.73      0.70    100000\n",
      "\n"
     ]
    }
   ],
   "source": [
    "y_pred = sgdclf.predict(X_test)\n",
    "\n",
    "performance_martix(y_test, y_pred)\n",
    "\n",
    "clf_report(y_test, y_pred)"
   ]
  },
  {
   "cell_type": "code",
   "execution_count": 161,
   "metadata": {
    "collapsed": false
   },
   "outputs": [
    {
     "data": {
      "text/plain": [
       "LogisticRegression(C=100000.0, class_weight=None, dual=False,\n",
       "          fit_intercept=True, intercept_scaling=1, max_iter=100,\n",
       "          multi_class='ovr', n_jobs=1, penalty='l2', random_state=None,\n",
       "          solver='liblinear', tol=0.0001, verbose=0, warm_start=False)"
      ]
     },
     "execution_count": 161,
     "metadata": {},
     "output_type": "execute_result"
    }
   ],
   "source": [
    "from sklearn import linear_model\n",
    "logreg = linear_model.LogisticRegression()\n",
    "logreg.fit(X_train, y_train)"
   ]
  },
  {
   "cell_type": "code",
   "execution_count": 163,
   "metadata": {
    "collapsed": false
   },
   "outputs": [
    {
     "data": {
      "text/plain": [
       "0.90069999999999995"
      ]
     },
     "execution_count": 163,
     "metadata": {},
     "output_type": "execute_result"
    }
   ],
   "source": [
    "accuracy_score(y_test,logreg.predict(X_test))"
   ]
  },
  {
   "cell_type": "markdown",
   "metadata": {},
   "source": [
    "# Ensemble"
   ]
  },
  {
   "cell_type": "markdown",
   "metadata": {},
   "source": [
    "# SGDClassifier"
   ]
  },
  {
   "cell_type": "code",
   "execution_count": 141,
   "metadata": {
    "collapsed": false
   },
   "outputs": [
    {
     "name": "stdout",
     "output_type": "stream",
     "text": [
      "Traning Model\n",
      "Model trained\n",
      "The Accuracy is \n",
      "\n",
      "0.83413\n",
      "Full Classification report :\n",
      "             precision    recall  f1-score   support\n",
      "\n",
      "          0       0.85      0.90      0.87     55652\n",
      "          1       0.95      0.40      0.57     10289\n",
      "          2       0.79      0.86      0.83     34059\n",
      "\n",
      "avg / total       0.84      0.83      0.83    100000\n",
      "\n"
     ]
    }
   ],
   "source": [
    "from sklearn.linear_model import SGDClassifier\n",
    "sgdclf = SGDClassifier()\n",
    "print('Traning Model')\n",
    "sgdclf.fit(X_train,y_train)\n",
    "print('Model trained')\n",
    "y_pred = sgdclf.predict(X_test)\n",
    "\n",
    "performance_martix(y_test, y_pred)\n",
    "\n",
    "clf_report(y_test, y_pred)"
   ]
  },
  {
   "cell_type": "markdown",
   "metadata": {},
   "source": [
    "# AdaboostClassifier with randomForest"
   ]
  },
  {
   "cell_type": "code",
   "execution_count": 165,
   "metadata": {
    "collapsed": false
   },
   "outputs": [
    {
     "name": "stdout",
     "output_type": "stream",
     "text": [
      "Traning Model\n",
      "Model trained\n",
      "The Accuracy is \n",
      "\n",
      "0.75129\n",
      "Full Classification report :\n",
      "             precision    recall  f1-score   support\n",
      "\n",
      "          0       0.90      0.75      0.82     55652\n",
      "          1       0.00      0.00      0.00     10289\n",
      "          2       0.62      0.97      0.76     34059\n",
      "\n",
      "avg / total       0.71      0.75      0.71    100000\n",
      "\n"
     ]
    }
   ],
   "source": [
    "from sklearn.ensemble import AdaBoostClassifier\n",
    "from sklearn.tree import DecisionTreeClassifier\n",
    "Adaclf = AdaBoostClassifier(DecisionTreeClassifier(max_depth=1),\n",
    "                         algorithm=\"SAMME\",\n",
    "                         n_estimators=200)\n",
    "print('Traning Model')\n",
    "Adaclf.fit(X_train,y_train)\n",
    "print('Model trained')\n",
    "\n",
    "y_pred = Adaclf.predict(X_t)\n",
    "\n",
    "performance_martix(y_test, y_pred)\n",
    "\n",
    "clf_report(y_test, y_pred)"
   ]
  },
  {
   "cell_type": "code",
   "execution_count": 164,
   "metadata": {
    "collapsed": false
   },
   "outputs": [
    {
     "name": "stdout",
     "output_type": "stream",
     "text": [
      "# Tuning hyper-parameters for precision\n",
      "()\n",
      "Best parameters set found on development set:\n",
      "()\n",
      "{'max_depth': 17}\n",
      "()\n",
      "Grid scores on development set:\n",
      "()\n",
      "0.897 (+/-0.006) for {'max_depth': 10}\n",
      "0.914 (+/-0.005) for {'max_depth': 11}\n",
      "0.924 (+/-0.004) for {'max_depth': 12}\n",
      "0.931 (+/-0.004) for {'max_depth': 13}\n",
      "0.936 (+/-0.002) for {'max_depth': 14}\n",
      "0.938 (+/-0.002) for {'max_depth': 15}\n",
      "0.940 (+/-0.001) for {'max_depth': 16}\n",
      "0.941 (+/-0.000) for {'max_depth': 17}\n",
      "0.941 (+/-0.000) for {'max_depth': 18}\n",
      "0.941 (+/-0.001) for {'max_depth': 19}\n",
      "()\n",
      "Detailed classification report:\n",
      "()\n",
      "The model is trained on the full development set.\n",
      "The scores are computed on the full evaluation set.\n",
      "()\n",
      "             precision    recall  f1-score   support\n",
      "\n",
      "          0       0.96      0.96      0.96     55652\n",
      "          1       0.92      0.91      0.91     10289\n",
      "          2       0.93      0.94      0.94     34059\n",
      "\n",
      "avg / total       0.95      0.95      0.95    100000\n",
      "\n",
      "0.9456\n",
      "()\n",
      "# Tuning hyper-parameters for recall\n",
      "()\n",
      "Best parameters set found on development set:\n",
      "()\n",
      "{'max_depth': 18}\n",
      "()\n",
      "Grid scores on development set:\n",
      "()\n",
      "0.897 (+/-0.006) for {'max_depth': 10}\n",
      "0.914 (+/-0.005) for {'max_depth': 11}\n",
      "0.924 (+/-0.004) for {'max_depth': 12}\n",
      "0.931 (+/-0.004) for {'max_depth': 13}\n",
      "0.936 (+/-0.003) for {'max_depth': 14}\n",
      "0.938 (+/-0.002) for {'max_depth': 15}\n",
      "0.940 (+/-0.001) for {'max_depth': 16}\n",
      "0.941 (+/-0.000) for {'max_depth': 17}\n",
      "0.941 (+/-0.000) for {'max_depth': 18}\n",
      "0.941 (+/-0.000) for {'max_depth': 19}\n",
      "()\n",
      "Detailed classification report:\n",
      "()\n",
      "The model is trained on the full development set.\n",
      "The scores are computed on the full evaluation set.\n",
      "()\n",
      "             precision    recall  f1-score   support\n",
      "\n",
      "          0       0.96      0.96      0.96     55652\n",
      "          1       0.92      0.90      0.91     10289\n",
      "          2       0.93      0.94      0.94     34059\n",
      "\n",
      "avg / total       0.95      0.95      0.95    100000\n",
      "\n",
      "0.94525\n",
      "()\n"
     ]
    }
   ],
   "source": [
    "from sklearn.model_selection import train_test_split\n",
    "from sklearn.model_selection import GridSearchCV\n",
    "from sklearn.metrics import classification_report\n",
    "from sklearn.svm import SVC\n",
    "from sklearn.metrics import accuracy_score\n",
    "param_grid = {'max_depth': np.arange(10, 20)}\n",
    "\n",
    "for score in scores:\n",
    "    print(\"# Tuning hyper-parameters for %s\" % score)\n",
    "    print()\n",
    "\n",
    "    clf = GridSearchCV(DecisionTreeClassifier(), param_grid)\n",
    "    clf.fit(X_train, y_train)\n",
    "    \n",
    "    print(\"Best parameters set found on development set:\")\n",
    "    print()\n",
    "    print(clf.best_params_)\n",
    "    print()\n",
    "    print(\"Grid scores on development set:\")\n",
    "    print()\n",
    "    means = clf.cv_results_['mean_test_score']\n",
    "    stds = clf.cv_results_['std_test_score']\n",
    "    for mean, std, params in zip(means, stds, clf.cv_results_['params']):\n",
    "        print(\"%0.3f (+/-%0.03f) for %r\"\n",
    "              % (mean, std * 2, params))\n",
    "    print()\n",
    "\n",
    "    print(\"Detailed classification report:\")\n",
    "    print()\n",
    "    print(\"The model is trained on the full development set.\")\n",
    "    print(\"The scores are computed on the full evaluation set.\")\n",
    "    print()\n",
    "    y_true, y_pred = y_test, clf.predict(X_test)\n",
    "    print(classification_report(y_true, y_pred))\n",
    "    print(accuracy_score(y_test,clf.predict(X_test)))\n",
    "    print()"
   ]
  },
  {
   "cell_type": "markdown",
   "metadata": {},
   "source": [
    "# Decision Tree"
   ]
  },
  {
   "cell_type": "code",
   "execution_count": 143,
   "metadata": {
    "collapsed": false
   },
   "outputs": [
    {
     "name": "stdout",
     "output_type": "stream",
     "text": [
      "Traning Model\n",
      "Model trained\n",
      "The Accuracy is \n",
      "\n",
      "0.93975\n",
      "Full Classification report :\n",
      "             precision    recall  f1-score   support\n",
      "\n",
      "          0       0.95      0.95      0.95     55652\n",
      "          1       0.90      0.90      0.90     10289\n",
      "          2       0.93      0.93      0.93     34059\n",
      "\n",
      "avg / total       0.94      0.94      0.94    100000\n",
      "\n"
     ]
    }
   ],
   "source": [
    "from sklearn.tree import DecisionTreeClassifier\n",
    "\n",
    "decclf = DecisionTreeClassifier()\n",
    "print('Traning Model')\n",
    "decclf.fit(X_train,y_train)\n",
    "print('Model trained')\n",
    "\n",
    "y_pred = decclf.predict(X_test)\n",
    "\n",
    "performance_martix(y_test, y_pred)\n",
    "\n",
    "clf_report(y_test, y_pred)\n"
   ]
  },
  {
   "cell_type": "code",
   "execution_count": 144,
   "metadata": {
    "collapsed": false
   },
   "outputs": [
    {
     "data": {
      "text/plain": [
       "GaussianNB(priors=None)"
      ]
     },
     "execution_count": 144,
     "metadata": {},
     "output_type": "execute_result"
    }
   ],
   "source": [
    "from sklearn.naive_bayes import GaussianNB\n",
    "NBclf = GaussianNB()\n",
    "NBclf.fit(X_train,y_train)"
   ]
  },
  {
   "cell_type": "code",
   "execution_count": 145,
   "metadata": {
    "collapsed": false
   },
   "outputs": [
    {
     "data": {
      "text/plain": [
       "array([1, 0, 0, ..., 2, 1, 0], dtype=int64)"
      ]
     },
     "execution_count": 145,
     "metadata": {},
     "output_type": "execute_result"
    }
   ],
   "source": [
    "NBclf.predict(X_train)"
   ]
  },
  {
   "cell_type": "code",
   "execution_count": 146,
   "metadata": {
    "collapsed": false
   },
   "outputs": [
    {
     "name": "stdout",
     "output_type": "stream",
     "text": [
      "The Accuracy is \n",
      "\n",
      "0.93975\n",
      "Full Classification report :\n",
      "             precision    recall  f1-score   support\n",
      "\n",
      "          0       0.95      0.95      0.95     55652\n",
      "          1       0.90      0.90      0.90     10289\n",
      "          2       0.93      0.93      0.93     34059\n",
      "\n",
      "avg / total       0.94      0.94      0.94    100000\n",
      "\n"
     ]
    }
   ],
   "source": [
    "y_pred = decclf.predict(X_test)\n",
    "\n",
    "performance_martix(y_test, y_pred)\n",
    "\n",
    "clf_report(y_test, y_pred)"
   ]
  },
  {
   "cell_type": "markdown",
   "metadata": {},
   "source": [
    "# KNeighborsClassifier"
   ]
  },
  {
   "cell_type": "code",
   "execution_count": 152,
   "metadata": {
    "collapsed": false
   },
   "outputs": [
    {
     "name": "stdout",
     "output_type": "stream",
     "text": [
      "The Accuracy is \n",
      "\n",
      "0.93975\n",
      "Full Classification report :\n",
      "             precision    recall  f1-score   support\n",
      "\n",
      "          0       0.95      0.95      0.95     55652\n",
      "          1       0.90      0.90      0.90     10289\n",
      "          2       0.93      0.93      0.93     34059\n",
      "\n",
      "avg / total       0.94      0.94      0.94    100000\n",
      "\n"
     ]
    }
   ],
   "source": [
    "from sklearn.neighbors import KNeighborsClassifier\n",
    "knnclf = KNeighborsClassifier(n_neighbors=3, weights='distance', algorithm='kd_tree')\n",
    "knnclf.fit(X_train,y_train)\n",
    "knnclf.predict(X_train)\n",
    "y_pred = decclf.predict(X_test)\n",
    "\n",
    "performance_martix(y_test, y_pred)\n",
    "\n",
    "clf_report(y_test, y_pred)"
   ]
  },
  {
   "cell_type": "markdown",
   "metadata": {},
   "source": [
    "## Random Forest"
   ]
  },
  {
   "cell_type": "code",
   "execution_count": 153,
   "metadata": {
    "collapsed": false
   },
   "outputs": [],
   "source": [
    "from sklearn.ensemble import RandomForestClassifier\n",
    "clfR = RandomForestClassifier()\n"
   ]
  },
  {
   "cell_type": "code",
   "execution_count": 154,
   "metadata": {
    "collapsed": false
   },
   "outputs": [
    {
     "data": {
      "text/plain": [
       "RandomForestClassifier(bootstrap=True, class_weight=None, criterion='gini',\n",
       "            max_depth=None, max_features='auto', max_leaf_nodes=None,\n",
       "            min_impurity_split=1e-07, min_samples_leaf=1,\n",
       "            min_samples_split=2, min_weight_fraction_leaf=0.0,\n",
       "            n_estimators=10, n_jobs=1, oob_score=False, random_state=None,\n",
       "            verbose=0, warm_start=False)"
      ]
     },
     "execution_count": 154,
     "metadata": {},
     "output_type": "execute_result"
    }
   ],
   "source": [
    "clfR.fit(X_train,y_train)"
   ]
  },
  {
   "cell_type": "code",
   "execution_count": 155,
   "metadata": {
    "collapsed": false
   },
   "outputs": [
    {
     "name": "stdout",
     "output_type": "stream",
     "text": [
      "The Accuracy is \n",
      "\n",
      "0.93975\n",
      "Full Classification report :\n",
      "             precision    recall  f1-score   support\n",
      "\n",
      "          0       0.95      0.95      0.95     55652\n",
      "          1       0.90      0.90      0.90     10289\n",
      "          2       0.93      0.93      0.93     34059\n",
      "\n",
      "avg / total       0.94      0.94      0.94    100000\n",
      "\n"
     ]
    }
   ],
   "source": [
    "y_pred = decclf.predict(X_test)\n",
    "\n",
    "performance_martix(y_test, y_pred)\n",
    "\n",
    "clf_report(y_test, y_pred)\n"
   ]
  },
  {
   "cell_type": "code",
   "execution_count": null,
   "metadata": {
    "collapsed": true
   },
   "outputs": [],
   "source": []
  }
 ],
 "metadata": {
  "anaconda-cloud": {},
  "kernelspec": {
   "display_name": "Python [py27]",
   "language": "python",
   "name": "Python [py27]"
  },
  "language_info": {
   "codemirror_mode": {
    "name": "ipython",
    "version": 2
   },
   "file_extension": ".py",
   "mimetype": "text/x-python",
   "name": "python",
   "nbconvert_exporter": "python",
   "pygments_lexer": "ipython2",
   "version": "2.7.12"
  }
 },
 "nbformat": 4,
 "nbformat_minor": 0
}
